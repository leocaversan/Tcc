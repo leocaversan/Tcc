{
 "cells": [
  {
   "cell_type": "code",
   "execution_count": 1,
   "metadata": {},
   "outputs": [],
   "source": [
    "import pandas as pd\n",
    "import numpy as np\n",
    "\n",
    "data_base = pd.read_csv('NSL-KDD/KDDTrain+.txt',header=None)\n"
   ]
  },
  {
   "cell_type": "code",
   "execution_count": 2,
   "metadata": {},
   "outputs": [
    {
     "data": {
      "text/plain": [
       "array([[ 491,    0,    0, ...,    0,    0,    0],\n",
       "       [ 146,    0,    0, ...,    0,    0,    0],\n",
       "       [   0,    0,    0, ...,    1,    0,    0],\n",
       "       ...,\n",
       "       [2231,  384,    0, ...,    0,    0,    0],\n",
       "       [   0,    0,    0, ...,    1,    0,    0],\n",
       "       [ 151,    0,    0, ...,    0,    0,    0]])"
      ]
     },
     "execution_count": 2,
     "metadata": {},
     "output_type": "execute_result"
    }
   ],
   "source": [
    "x = data_base.iloc[:,4:-1]\n",
    "x = x.iloc[:,:-1]\n",
    "x = x.values\n",
    "x = x.astype(int)\n",
    "x"
   ]
  },
  {
   "cell_type": "code",
   "execution_count": 3,
   "metadata": {},
   "outputs": [
    {
     "data": {
      "text/plain": [
       "array([0, 0, 1, ..., 0, 1, 0])"
      ]
     },
     "execution_count": 3,
     "metadata": {},
     "output_type": "execute_result"
    }
   ],
   "source": [
    "y = np.where(data_base[41] == \"normal\", 0, 1)\n",
    "# y = y.iloc[:,-1:]\n",
    "# y = y.values\n",
    "y = y.astype(int)\n",
    "y"
   ]
  },
  {
   "cell_type": "code",
   "execution_count": 4,
   "metadata": {},
   "outputs": [],
   "source": [
    "import torch\n",
    "from torch import nn"
   ]
  },
  {
   "cell_type": "code",
   "execution_count": 5,
   "metadata": {},
   "outputs": [
    {
     "name": "stdout",
     "output_type": "stream",
     "text": [
      "(125973, 37) (125973,)\n"
     ]
    }
   ],
   "source": [
    "\n",
    "from sklearn import datasets\n",
    "\n",
    "wine = datasets.load_wine()\n",
    "data = x\n",
    "target = y\n",
    "\n",
    "print(data.shape, target.shape)"
   ]
  },
  {
   "cell_type": "code",
   "execution_count": 6,
   "metadata": {},
   "outputs": [],
   "source": [
    "class WineClassifier(nn.Module):\n",
    "\n",
    "  def __init__(self, input_size, hidden_size, out_size):\n",
    "    super(WineClassifier, self).__init__()\n",
    "\n",
    "    self.hidden  = nn.Linear(input_size, hidden_size)\n",
    "    self.relu    = nn.ReLU()\n",
    "    self.out     = nn.Linear(hidden_size, out_size)\n",
    "    self.softmax = nn.Softmax()\n",
    "\n",
    "  def forward(self, X):\n",
    "    \n",
    "    feature = self.relu(self.hidden(X))\n",
    "    output  = self.softmax(self.out(feature))\n",
    "\n",
    "    return output\n",
    "\n",
    "input_size  = data.shape[1]\n",
    "hidden_size = 32\n",
    "out_size    = len(y)\n",
    "\n",
    "net = WineClassifier(input_size, hidden_size, out_size).to('cpu') #cast na GPU \n",
    "device = 'cpu'\n",
    "     "
   ]
  },
  {
   "cell_type": "code",
   "execution_count": 7,
   "metadata": {},
   "outputs": [
    {
     "name": "stdout",
     "output_type": "stream",
     "text": [
      "WineClassifier(\n",
      "  (hidden): Linear(in_features=37, out_features=32, bias=True)\n",
      "  (relu): ReLU()\n",
      "  (out): Linear(in_features=32, out_features=125973, bias=True)\n",
      "  (softmax): Softmax(dim=None)\n",
      ")\n"
     ]
    }
   ],
   "source": [
    "\n",
    "print(net)"
   ]
  },
  {
   "cell_type": "code",
   "execution_count": 8,
   "metadata": {},
   "outputs": [
    {
     "name": "stdout",
     "output_type": "stream",
     "text": [
      "torch.float32 torch.int64\n"
     ]
    }
   ],
   "source": [
    "\n",
    "Xtns = torch.from_numpy(data).float()\n",
    "Ytns = torch.from_numpy(target)\n",
    "\n",
    "# Cast na GPU\n",
    "Xtns = Xtns.to(device)\n",
    "Ytns = Ytns.to(device)\n",
    "\n",
    "print(Xtns.dtype, Ytns.dtype)"
   ]
  },
  {
   "cell_type": "code",
   "execution_count": 9,
   "metadata": {},
   "outputs": [
    {
     "ename": "",
     "evalue": "",
     "output_type": "error",
     "traceback": [
      "\u001b[1;31mO Kernel falhou ao executar o código na célula atual ou em uma célula anterior. Examine o código nas células para identificar uma possível causa da falha. Clique <a href=\"https://aka.ms/vscodeJupyterKernelCrash\">aqui</a> para obter mais informações. Consulte o <a href='command:jupyter.viewOutput'>log</a> do Jupyter para obter mais detalhes."
     ]
    }
   ],
   "source": [
    "pred = net(Xtns)\n",
    "\n",
    "print(pred.shape, Ytns.shape)\n",
    "print(pred[0].data, Ytns[0].data)"
   ]
  },
  {
   "cell_type": "markdown",
   "metadata": {},
   "source": [
    "## Acuracy of the algorithm Decision Tree Model\n",
    "\n",
    "- Using 50% of the data to test and 50% to train the model"
   ]
  },
  {
   "cell_type": "code",
   "execution_count": null,
   "metadata": {},
   "outputs": [
    {
     "name": "stdout",
     "output_type": "stream",
     "text": [
      "0.22017241653039515\n"
     ]
    }
   ],
   "source": [
    "from sklearn.linear_model import Perceptron\n",
    "from sklearn.model_selection import train_test_split\n",
    "from sklearn import metrics\n",
    "\n",
    "\n",
    "x_train, x_test,  y_train, y_test = train_test_split(x, y,train_size=0.5)\n",
    "\n",
    "clf = Perceptron(tol=1e-3, random_state=0)\n",
    "# clf = tree.DecisionTreeClassifier()\n",
    "classification = clf.fit(x_train, y_train)\n",
    "y_pred = classification.predict(x_test)\n",
    "\n",
    "acuracy = metrics.accuracy_score(y_test,y_pred)\n",
    "performace = round(acuracy,2)\n",
    "print(acuracy)\n"
   ]
  },
  {
   "cell_type": "markdown",
   "metadata": {},
   "source": [
    "# Confusion matrix"
   ]
  },
  {
   "cell_type": "code",
   "execution_count": null,
   "metadata": {},
   "outputs": [
    {
     "name": "stdout",
     "output_type": "stream",
     "text": [
      "[[ 1636 31983]\n",
      " [17151 12217]]\n"
     ]
    },
    {
     "data": {
      "image/png": "[encoded data removed]",
      "text/plain": [
       "<Figure size 640x480 with 2 Axes>"
      ]
     },
     "metadata": {},
     "output_type": "display_data"
    }
   ],
   "source": [
    "\n",
    "from sklearn.metrics import confusion_matrix\n",
    "\n",
    "import matplotlib.pyplot as plt\n",
    "from sklearn.metrics import confusion_matrix, ConfusionMatrixDisplay\n",
    "\n",
    "\n",
    "color = 'white'\n",
    "cm = confusion_matrix(y_test, y_pred)\n",
    "\n",
    "disp = ConfusionMatrixDisplay(confusion_matrix=cm, \n",
    "                              display_labels=classification.classes_)\n",
    "\n",
    "print(cm)\n",
    "disp.plot()\n",
    "plt.show()"
   ]
  },
  {
   "cell_type": "markdown",
   "metadata": {},
   "source": [
    "# Recall"
   ]
  },
  {
   "cell_type": "code",
   "execution_count": null,
   "metadata": {},
   "outputs": [
    {
     "data": {
      "image/png": "[encoded data removed]",
      "text/plain": [
       "<Figure size 640x480 with 1 Axes>"
      ]
     },
     "metadata": {},
     "output_type": "display_data"
    }
   ],
   "source": [
    "\n",
    "from sklearn.metrics import PrecisionRecallDisplay\n",
    "from sklearn.metrics import recall_score\n",
    "\n",
    "recall = (recall_score(y_test, y_pred, average=None))\n",
    "display = PrecisionRecallDisplay.from_estimator(\n",
    "    classification, x_test, y_test, name=\"LinearSVC\"\n",
    ")\n",
    "_ = display.ax_.set_title(\"2-class Precision-Recall curve\")\n"
   ]
  },
  {
   "cell_type": "code",
   "execution_count": null,
   "metadata": {},
   "outputs": [
    {
     "name": "stdout",
     "output_type": "stream",
     "text": [
      "              precision    recall  f1-score   support\n",
      "\n",
      "     class 0       0.09      0.05      0.06     33619\n",
      "     class 1       0.28      0.42      0.33     29368\n",
      "\n",
      "    accuracy                           0.22     62987\n",
      "   macro avg       0.18      0.23      0.20     62987\n",
      "weighted avg       0.18      0.22      0.19     62987\n",
      "\n",
      "              precision    recall  f1-score   support\n",
      "\n",
      "           0       0.09      0.05      0.06     33619\n",
      "           1       0.28      0.42      0.33     29368\n",
      "\n",
      "    accuracy                           0.22     62987\n",
      "   macro avg       0.18      0.23      0.20     62987\n",
      "weighted avg       0.18      0.22      0.19     62987\n",
      "\n"
     ]
    }
   ],
   "source": [
    "from sklearn.metrics import classification_report\n",
    "\n",
    "target_names = ['class 0', 'class 1']\n",
    "print(classification_report(y_test, y_pred, target_names=target_names))\n",
    "\n",
    "from sklearn.metrics import classification_report\n",
    "print(classification_report(y_test, y_pred))"
   ]
  },
  {
   "attachments": {},
   "cell_type": "markdown",
   "metadata": {},
   "source": [
    "y_train.shape"
   ]
  },
  {
   "attachments": {},
   "cell_type": "markdown",
   "metadata": {},
   "source": [
    "for i in range(len(DataBaseTest.index)):\n",
    "    if DataBaseTest.iloc[i,-2] == 'normal':\n",
    "        DataBaseTest.iloc[i,-2] = 0\n",
    "    else:\n",
    "        DataBaseTest.iloc[i,-2] = 1\n",
    "DataBaseTest = DataBaseTest.iloc[:,:-1]\n",
    "DataBaseTest = DataBaseTest.iloc[:,4:].values\n",
    "DataBaseTest = DataBaseTest.astype(int)\n"
   ]
  }
 ],
 "metadata": {
  "kernelspec": {
   "display_name": "base",
   "language": "python",
   "name": "python3"
  },
  "language_info": {
   "codemirror_mode": {
    "name": "ipython",
    "version": 3
   },
   "file_extension": ".py",
   "mimetype": "text/x-python",
   "name": "python",
   "nbconvert_exporter": "python",
   "pygments_lexer": "ipython3",
   "version": "3.9.13"
  },
  "orig_nbformat": 4,
  "vscode": {
   "interpreter": {
    "hash": "dbc5acd08ae0ee8b48cc8692cff278610e33800d282ccaf5fba4c99f650df4bf"
   }
  }
 },
 "nbformat": 4,
 "nbformat_minor": 2
}
