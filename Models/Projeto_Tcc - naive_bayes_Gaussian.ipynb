{
 "cells": [
  {
   "cell_type": "code",
   "execution_count": 3,
   "metadata": {},
   "outputs": [],
   "source": [
    "import pandas as pd\n",
    "import numpy as np\n",
    "\n",
    "data_base = pd.read_csv('NSL-KDD/KDDTrain+.txt',header=None)\n"
   ]
  },
  {
   "cell_type": "code",
   "execution_count": 1,
   "metadata": {},
   "outputs": [
    {
     "ename": "NameError",
     "evalue": "name 'data_base' is not defined",
     "output_type": "error",
     "traceback": [
      "\u001b[0;31m---------------------------------------------------------------------------\u001b[0m",
      "\u001b[0;31mNameError\u001b[0m                                 Traceback (most recent call last)",
      "\u001b[1;32m/Users/leoleo/Documents/Tcc/Trabalho_conclusao_curso_python/Projeto_Tcc - naive_bayes_Gaussian.ipynb Célula 2\u001b[0m line \u001b[0;36m1\n\u001b[0;32m----> <a href='vscode-notebook-cell:/Users/leoleo/Documents/Tcc/Trabalho_conclusao_curso_python/Projeto_Tcc%20-%20naive_bayes_Gaussian.ipynb#W1sZmlsZQ%3D%3D?line=0'>1</a>\u001b[0m x \u001b[39m=\u001b[39m data_base\u001b[39m.\u001b[39miloc[:,\u001b[39m4\u001b[39m:\u001b[39m-\u001b[39m\u001b[39m1\u001b[39m]\n\u001b[1;32m      <a href='vscode-notebook-cell:/Users/leoleo/Documents/Tcc/Trabalho_conclusao_curso_python/Projeto_Tcc%20-%20naive_bayes_Gaussian.ipynb#W1sZmlsZQ%3D%3D?line=1'>2</a>\u001b[0m x \u001b[39m=\u001b[39m x\u001b[39m.\u001b[39miloc[:,:\u001b[39m-\u001b[39m\u001b[39m1\u001b[39m]\n\u001b[1;32m      <a href='vscode-notebook-cell:/Users/leoleo/Documents/Tcc/Trabalho_conclusao_curso_python/Projeto_Tcc%20-%20naive_bayes_Gaussian.ipynb#W1sZmlsZQ%3D%3D?line=2'>3</a>\u001b[0m x \u001b[39m=\u001b[39m x\u001b[39m.\u001b[39mvalues\n",
      "\u001b[0;31mNameError\u001b[0m: name 'data_base' is not defined"
     ]
    }
   ],
   "source": [
    "x = data_base.iloc[:,4:-1]\n",
    "x = x.iloc[:,:-1]\n",
    "x = x.values\n",
    "x = x.astype(int)\n",
    "x\n",
    "\n",
    "\n",
    "\n"
   ]
  },
  {
   "cell_type": "code",
   "execution_count": 2,
   "metadata": {},
   "outputs": [
    {
     "ename": "NameError",
     "evalue": "name 'data_base' is not defined",
     "output_type": "error",
     "traceback": [
      "\u001b[0;31m---------------------------------------------------------------------------\u001b[0m",
      "\u001b[0;31mNameError\u001b[0m                                 Traceback (most recent call last)",
      "\u001b[1;32m/Users/leoleo/Documents/Tcc/Trabalho_conclusao_curso_python/Projeto_Tcc - naive_bayes_Gaussian.ipynb Célula 3\u001b[0m line \u001b[0;36m1\n\u001b[0;32m----> <a href='vscode-notebook-cell:/Users/leoleo/Documents/Tcc/Trabalho_conclusao_curso_python/Projeto_Tcc%20-%20naive_bayes_Gaussian.ipynb#W2sZmlsZQ%3D%3D?line=0'>1</a>\u001b[0m y \u001b[39m=\u001b[39m data_base\u001b[39m.\u001b[39miloc[:,\u001b[39m4\u001b[39m:\u001b[39m-\u001b[39m\u001b[39m1\u001b[39m]\n\u001b[1;32m      <a href='vscode-notebook-cell:/Users/leoleo/Documents/Tcc/Trabalho_conclusao_curso_python/Projeto_Tcc%20-%20naive_bayes_Gaussian.ipynb#W2sZmlsZQ%3D%3D?line=1'>2</a>\u001b[0m y[\u001b[39m41\u001b[39m] \u001b[39m=\u001b[39m np\u001b[39m.\u001b[39mwhere(y[\u001b[39m41\u001b[39m] \u001b[39m==\u001b[39m \u001b[39m\"\u001b[39m\u001b[39mnormal\u001b[39m\u001b[39m\"\u001b[39m, \u001b[39m0\u001b[39m, \u001b[39m1\u001b[39m)\n\u001b[1;32m      <a href='vscode-notebook-cell:/Users/leoleo/Documents/Tcc/Trabalho_conclusao_curso_python/Projeto_Tcc%20-%20naive_bayes_Gaussian.ipynb#W2sZmlsZQ%3D%3D?line=2'>3</a>\u001b[0m y \u001b[39m=\u001b[39m y\u001b[39m.\u001b[39miloc[:,\u001b[39m-\u001b[39m\u001b[39m1\u001b[39m:]\n",
      "\u001b[0;31mNameError\u001b[0m: name 'data_base' is not defined"
     ]
    }
   ],
   "source": [
    "y = data_base.iloc[:,4:-1]\n",
    "y[41] = np.where(y[41] == \"normal\", 0, 1)\n",
    "y = y.iloc[:,-1:]\n",
    "y = y.values\n",
    "y = y.astype(int)\n",
    "y"
   ]
  },
  {
   "cell_type": "code",
   "execution_count": 4,
   "metadata": {},
   "outputs": [
    {
     "name": "stderr",
     "output_type": "stream",
     "text": [
      "/Users/leoleo/Documents/Tcc/Trabalho_conclusao_curso_python/venv/lib/python3.9/site-packages/sklearn/utils/validation.py:985: DataConversionWarning: A column-vector y was passed when a 1d array was expected. Please change the shape of y to (n_samples, ), for example using ravel().\n",
      "  y = column_or_1d(y, warn=True)\n"
     ]
    },
    {
     "name": "stdout",
     "output_type": "stream",
     "text": [
      "0.5568483363951827\n"
     ]
    }
   ],
   "source": [
    "from sklearn.naive_bayes import GaussianNB\n",
    "from sklearn.model_selection import train_test_split\n",
    "from sklearn import metrics\n",
    "\n",
    "x_train, x_test,  y_train, y_test = train_test_split(x, y,train_size=0.3)\n",
    "\n",
    "    \n",
    "gnb = GaussianNB()\n",
    "y_pred = gnb.fit(x_train, y_train).predict(x_test)\n",
    "acertos = metrics.accuracy_score(y_test,y_pred)\n",
    "performace = round(acertos,4)\n",
    "\n",
    "\n",
    "# print(\"Number of mislabeled points out of a total %d points : %d\"%(x_test.shape[0], (y_test != y_pred).sum()))\n",
    "print(acertos)"
   ]
  },
  {
   "cell_type": "code",
   "execution_count": 5,
   "metadata": {},
   "outputs": [
    {
     "name": "stdout",
     "output_type": "stream",
     "text": [
      "              precision    recall  f1-score   support\n",
      "\n",
      "     class 0       0.55      0.99      0.71     47188\n",
      "     class 1       0.89      0.05      0.10     40994\n",
      "\n",
      "    accuracy                           0.56     88182\n",
      "   macro avg       0.72      0.52      0.40     88182\n",
      "weighted avg       0.71      0.56      0.42     88182\n",
      "\n",
      "              precision    recall  f1-score   support\n",
      "\n",
      "           0       0.55      0.99      0.71     47188\n",
      "           1       0.89      0.05      0.10     40994\n",
      "\n",
      "    accuracy                           0.56     88182\n",
      "   macro avg       0.72      0.52      0.40     88182\n",
      "weighted avg       0.71      0.56      0.42     88182\n",
      "\n"
     ]
    }
   ],
   "source": [
    "from sklearn.metrics import classification_report\n",
    "target_names = ['class 0', 'class 1']\n",
    "print(classification_report(y_test, y_pred, target_names=target_names))\n",
    "\n",
    "from sklearn.metrics import classification_report\n",
    "print(classification_report(y_test, y_pred))"
   ]
  },
  {
   "attachments": {},
   "cell_type": "markdown",
   "metadata": {},
   "source": [
    "y_train.shape"
   ]
  },
  {
   "attachments": {},
   "cell_type": "markdown",
   "metadata": {},
   "source": [
    "for i in range(len(DataBaseTest.index)):\n",
    "    if DataBaseTest.iloc[i,-2] == 'normal':\n",
    "        DataBaseTest.iloc[i,-2] = 0\n",
    "    else:\n",
    "        DataBaseTest.iloc[i,-2] = 1\n",
    "DataBaseTest = DataBaseTest.iloc[:,:-1]\n",
    "DataBaseTest = DataBaseTest.iloc[:,4:].values\n",
    "DataBaseTest = DataBaseTest.astype(int)\n"
   ]
  }
 ],
 "metadata": {
  "kernelspec": {
   "display_name": "base",
   "language": "python",
   "name": "python3"
  },
  "language_info": {
   "codemirror_mode": {
    "name": "ipython",
    "version": 3
   },
   "file_extension": ".py",
   "mimetype": "text/x-python",
   "name": "python",
   "nbconvert_exporter": "python",
   "pygments_lexer": "ipython3",
   "version": "3.9.13"
  },
  "orig_nbformat": 4,
  "vscode": {
   "interpreter": {
    "hash": "dbc5acd08ae0ee8b48cc8692cff278610e33800d282ccaf5fba4c99f650df4bf"
   }
  }
 },
 "nbformat": 4,
 "nbformat_minor": 2
}
